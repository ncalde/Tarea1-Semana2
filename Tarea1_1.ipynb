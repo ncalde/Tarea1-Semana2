{
 "cells": [
  {
   "cell_type": "markdown",
   "id": "eastern-construction",
   "metadata": {},
   "source": [
    "# Tarea semana 02: Integración y derivación numérica\n",
    "# Natalia Calderón Barboza 2019035434"
   ]
  },
  {
   "cell_type": "markdown",
   "id": "wound-miracle",
   "metadata": {},
   "source": [
    "## 1. Calcular el desplazamiento de un objeto por integración numérica."
   ]
  },
  {
   "cell_type": "markdown",
   "id": "considerable-afghanistan",
   "metadata": {},
   "source": [
    "Se utilizará la regla de Simpson para el desarrollo de este ejercicio. A continuación, se presenta, en pseudocódigo, el procedimiento para implementar esta regla integral sobre una función general F(x)."
   ]
  },
  {
   "cell_type": "markdown",
   "id": "amateur-argument",
   "metadata": {},
   "source": [
    "INICIO\n",
    "    \n",
    "    1. Definir la función F(x), los límites de integración, y el número de subintervalos a utilizar.\n",
    "    2. Iniciar una sumatoria en 0.\n",
    "    3. Determinar el valor del espaciamiento entre puntos como la distancia entre límites dividida por el número de subintervalos.\n",
    "    4. Calcular los valores de los puntos xi a utilizar en el cálculo de Simpson, a partir del límite inferior de integración y el espaciamiento.\n",
    "    5. Agregar a la sumatoria los valores de F(xi) multiplicados por su respectivo peso, para todos los puntos.\n",
    "    6. Multiplicar la sumatoria por el espaciamiento y dividir entre 3 para aproximar la integral definida.\n",
    "FIN"
   ]
  },
  {
   "cell_type": "markdown",
   "id": "lightweight-poker",
   "metadata": {},
   "source": [
    "Primero se realiza la importación de librerías."
   ]
  },
  {
   "cell_type": "code",
   "execution_count": 2,
   "id": "environmental-thumbnail",
   "metadata": {},
   "outputs": [],
   "source": [
    "import numpy as np\n",
    "import scipy.integrate"
   ]
  },
  {
   "cell_type": "markdown",
   "id": "active-solution",
   "metadata": {},
   "source": [
    "Luego se definen las funciones."
   ]
  },
  {
   "cell_type": "code",
   "execution_count": 3,
   "id": "foreign-porcelain",
   "metadata": {},
   "outputs": [],
   "source": [
    "def PesoWi(i,numIntervalos):\n",
    "    \"\"\"\n",
    "    Devuelve el peso de cada término de la sumatoria que utiliza Simpson\n",
    "    Los extremos tienen un peso igual a 1\n",
    "    Los valores intermedios tienen un peso igual a 2 si son múltiplos de 2 y un peso de 4 en caso contrario\n",
    "    \"\"\"\n",
    "    if i == 0 or i == (numIntervalos):\n",
    "        return 1\n",
    "    elif (i % 2) == 0:\n",
    "        return 2\n",
    "    else:\n",
    "        return 4"
   ]
  },
  {
   "cell_type": "code",
   "execution_count": 4,
   "id": "overhead-paint",
   "metadata": {},
   "outputs": [],
   "source": [
    "def IntegrarSimpson38(limiteInferior, limiteSuperior, numIntervalos):\n",
    "    \"\"\"\n",
    "    Recibe los límites de integración y el número de intervalos a utilizar en la aproximación\n",
    "    Aproxima una integral definida con el método Simpson\n",
    "    \"\"\"\n",
    "    sumatoria = 0.0\n",
    "    espaciamiento = (limiteSuperior - limiteInferior) / numIntervalos\n",
    "    for i in range(0, numIntervalos + 1): #Se agregan a la sumatoria los valores multiplicados por su peso\n",
    "        xi = limiteInferior + espaciamiento*i\n",
    "        sumatoria = sumatoria + PesoWi(i,numIntervalos)*F(xi)\n",
    "    integral = (espaciamiento*sumatoria)/3\n",
    "    return integral"
   ]
  },
  {
   "cell_type": "markdown",
   "id": "golden-plate",
   "metadata": {},
   "source": [
    "La función a integrar se determinó a partir de las condiciones del movimiento del móvil que se desplaza en línea recta con aceleración constante:\n",
    "$$v(0) = 0.5$$\n",
    "$$v(100) = 1.0$$ \n",
    "Estas condiciones se cumplen para un MRUA, dónde la velocidad viene definida por la ecuación:\n",
    "$$v(t)=0.005*t+0.5$$\n",
    "El desplazamiento del móvil en un intervalo de tiempo se determina como:\n",
    "$$\\Delta x = \\int_a^b v(t) \\,dt$$"
   ]
  },
  {
   "cell_type": "code",
   "execution_count": 5,
   "id": "driving-marshall",
   "metadata": {},
   "outputs": [],
   "source": [
    "def F(x):\n",
    "    \"\"\"\n",
    "    Devuelve el valor de f(x), x evaluado en la función a integrar\n",
    "    \"\"\"\n",
    "    return 0.005*x + 0.5"
   ]
  },
  {
   "cell_type": "markdown",
   "id": "critical-reporter",
   "metadata": {},
   "source": [
    "Main."
   ]
  },
  {
   "cell_type": "code",
   "execution_count": 6,
   "id": "funky-brush",
   "metadata": {},
   "outputs": [
    {
     "name": "stdout",
     "output_type": "stream",
     "text": [
      "Integral calculada con 3 subintervalos:  64.81481481481482     error: 13.580246913580234 %\n",
      "Integral calculada con 9 subintervalos:  71.3991769547325     error: 4.8010973936900045 %\n",
      "Integral calculada con 27 subintervalos:  73.77686328303612     error: 1.6308489559518382 %\n",
      "Integral calculada con 81 subintervalos:  74.58974749784076     error: 0.547003336212318 %\n",
      "Integral calculada con 243 subintervalos:  74.86296691448344     error: 0.18271078068875113 %\n"
     ]
    }
   ],
   "source": [
    "limiteInferior = 0\n",
    "limiteSuperior = 100\n",
    "numIntervalos = [3,9,27,81,243]\n",
    "for i in numIntervalos:\n",
    "    integralSimpson = IntegrarSimpson38(limiteInferior, limiteSuperior, i)\n",
    "    #Se va a utilizar la función scipy.integrate para obtener el valor exacto de la integral y calcular el error\n",
    "    integralScipy, errorScipy = scipy.integrate.quad(F,limiteInferior,limiteSuperior)\n",
    "    error = (integralScipy - integralSimpson)*100/integralScipy\n",
    "    print(\"Integral calculada con\", i , \"subintervalos: \", integralSimpson,\"    error:\",error,\"%\")"
   ]
  },
  {
   "cell_type": "markdown",
   "id": "narrative-rainbow",
   "metadata": {},
   "source": [
    "De los resultados anteriores se identifica que con 81 subintervalos se obtiene un error menor a un 1% del valor exacto"
   ]
  },
  {
   "cell_type": "code",
   "execution_count": 7,
   "id": "editorial-shakespeare",
   "metadata": {},
   "outputs": [
    {
     "name": "stdout",
     "output_type": "stream",
     "text": [
      "Desplazamiento del móvil: 75.00000000000001  metros.\n"
     ]
    }
   ],
   "source": [
    "print(\"Desplazamiento del móvil:\", IntegrarSimpson38(limiteInferior, limiteSuperior, 22), \" metros.\")"
   ]
  },
  {
   "cell_type": "code",
   "execution_count": null,
   "id": "turkish-nightmare",
   "metadata": {},
   "outputs": [],
   "source": []
  },
  {
   "cell_type": "code",
   "execution_count": null,
   "id": "understanding-runner",
   "metadata": {},
   "outputs": [],
   "source": []
  }
 ],
 "metadata": {
  "kernelspec": {
   "display_name": "Python 3",
   "language": "python",
   "name": "python3"
  },
  "language_info": {
   "codemirror_mode": {
    "name": "ipython",
    "version": 3
   },
   "file_extension": ".py",
   "mimetype": "text/x-python",
   "name": "python",
   "nbconvert_exporter": "python",
   "pygments_lexer": "ipython3",
   "version": "3.8.3"
  }
 },
 "nbformat": 4,
 "nbformat_minor": 5
}
