{
 "cells": [
  {
   "cell_type": "markdown",
   "id": "juvenile-edwards",
   "metadata": {},
   "source": [
    "# Tarea semana 02: Integración y derivación numérica\n",
    "# Natalia Calderón Barboza 2019035434"
   ]
  },
  {
   "cell_type": "markdown",
   "id": "behavioral-devil",
   "metadata": {},
   "source": [
    "## 2. Determinar el momento en que un objeto pasa por un punto."
   ]
  },
  {
   "cell_type": "markdown",
   "id": "varied-copper",
   "metadata": {},
   "source": [
    "Se utilizará el método de Newton-Raphson para el desarrollo de este ejercicio. A continuación, se presenta, en pseudocódigo, el procedimiento para implementar este método sobre una función general f(x)."
   ]
  },
  {
   "cell_type": "markdown",
   "id": "transsexual-kitchen",
   "metadata": {},
   "source": [
    "INICIO\n",
    "    \n",
    "    Recibir la función F(x),\n",
    "FIN"
   ]
  },
  {
   "cell_type": "markdown",
   "id": "nearby-state",
   "metadata": {},
   "source": [
    "Primero se realiza la importación de librerías."
   ]
  },
  {
   "cell_type": "code",
   "execution_count": 1,
   "id": "instant-journal",
   "metadata": {},
   "outputs": [],
   "source": [
    "import numpy as np"
   ]
  },
  {
   "cell_type": "markdown",
   "id": "dutch-embassy",
   "metadata": {},
   "source": [
    "Luego se definen las funciones."
   ]
  },
  {
   "cell_type": "code",
   "execution_count": 27,
   "id": "polished-welding",
   "metadata": {},
   "outputs": [],
   "source": [
    "def F(x):\n",
    "    y = -5 + (0.01*x*x)/2\n",
    "    return y"
   ]
  },
  {
   "cell_type": "code",
   "execution_count": 28,
   "id": "undefined-fitting",
   "metadata": {},
   "outputs": [],
   "source": [
    "def DerivarF(x):\n",
    "    h = 0.01\n",
    "    derivada = (F(x-2*h)-8*F(x-h)+8*F(x+h)-F(x+2*h))/(12*h)\n",
    "    return derivada"
   ]
  },
  {
   "cell_type": "code",
   "execution_count": 29,
   "id": "foreign-gardening",
   "metadata": {},
   "outputs": [],
   "source": [
    "def EncontrarRaiz(x):\n",
    "    for i in range(1,10):\n",
    "        x = x - F(x)/DerivarF(x)\n",
    "        print (x)\n",
    "    return x"
   ]
  },
  {
   "cell_type": "code",
   "execution_count": 30,
   "id": "lyric-assurance",
   "metadata": {},
   "outputs": [
    {
     "name": "stdout",
     "output_type": "stream",
     "text": [
      "500.49999999931555\n",
      "251.2490009983346\n",
      "127.61455816292988\n",
      "67.72532736062546\n",
      "41.2454260749355\n",
      "32.74526934447578\n",
      "31.64201586865\n",
      "31.622782450701052\n",
      "31.622776601684333\n"
     ]
    },
    {
     "data": {
      "text/plain": [
       "31.622776601684333"
      ]
     },
     "execution_count": 30,
     "metadata": {},
     "output_type": "execute_result"
    }
   ],
   "source": [
    "x = 1\n",
    "EncontrarRaiz(x)"
   ]
  },
  {
   "cell_type": "code",
   "execution_count": null,
   "id": "nutritional-garlic",
   "metadata": {},
   "outputs": [],
   "source": []
  },
  {
   "cell_type": "markdown",
   "id": "reliable-embassy",
   "metadata": {},
   "source": []
  },
  {
   "cell_type": "markdown",
   "id": "modified-fellow",
   "metadata": {},
   "source": []
  },
  {
   "cell_type": "markdown",
   "id": "foreign-building",
   "metadata": {},
   "source": []
  }
 ],
 "metadata": {
  "kernelspec": {
   "display_name": "Python 3",
   "language": "python",
   "name": "python3"
  },
  "language_info": {
   "codemirror_mode": {
    "name": "ipython",
    "version": 3
   },
   "file_extension": ".py",
   "mimetype": "text/x-python",
   "name": "python",
   "nbconvert_exporter": "python",
   "pygments_lexer": "ipython3",
   "version": "3.8.3"
  }
 },
 "nbformat": 4,
 "nbformat_minor": 5
}
